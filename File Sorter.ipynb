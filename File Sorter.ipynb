{
 "cells": [
  {
   "cell_type": "code",
   "execution_count": 68,
   "id": "e9f29bde-3ef0-43d0-a475-91fbf4e3b2e7",
   "metadata": {},
   "outputs": [],
   "source": [
    "import os\n",
    "import shutil"
   ]
  },
  {
   "cell_type": "code",
   "execution_count": 69,
   "id": "add82d7a-fb58-471d-8403-2c5017199ee4",
   "metadata": {},
   "outputs": [],
   "source": [
    "path = r\"C:/Users/Jimmy/Desktop/File Sorter/\"\n",
    "location = os.listdir(path)"
   ]
  },
  {
   "cell_type": "code",
   "execution_count": 70,
   "id": "6b9f3d04-3266-4226-b3d7-2dcaefa64f81",
   "metadata": {},
   "outputs": [],
   "source": [
    "folders = ['Images', 'Text Files', 'Videos', 'CSV', ]\n",
    "\n",
    "for loop in range(0,4):\n",
    "    if not os.path.exists(path + folders[loop]):\n",
    "        os.makedirs(path + folders[loop])\n",
    "\n"
   ]
  },
  {
   "cell_type": "code",
   "execution_count": 71,
   "id": "30749af4-1f81-4bfa-b43f-6bc15693ae22",
   "metadata": {},
   "outputs": [],
   "source": [
    "for file in location:\n",
    "    if \".csv\" in file and not os.path.exists(path + \"CSV/\" + file):\n",
    "        shutil.move(path + file, path + \"CSV/\" + file)\n",
    "    elif \".txt\" in file and not os.path.exists(path + \"Text Files/\" + file):\n",
    "        shutil.move(path + file, path + \"Text Files/\" + file)\n",
    "    elif \".mp4\" in file and not os.path.exists(path + \"Videos/\" + file):\n",
    "        shutil.move(path + file, path + \"Videos/\" + file)\n",
    "    elif \".webm\" in file and not os.path.exists(path + \"Videos/\" + file):\n",
    "        shutil.move(path + file, path + \"Videos/\" + file)\n",
    "    elif \".jpg\" in file and not os.path.exists(path + \"Images/\" + file):\n",
    "        shutil.move(path + file, path + \"Images/\" + file)\n",
    "    elif \".png\" in file and not os.path.exists(path + \"Images/\" + file):\n",
    "        shutil.move(path + file, path + \"Images/\" + file)"
   ]
  }
 ],
 "metadata": {
  "kernelspec": {
   "display_name": "Python 3 (ipykernel)",
   "language": "python",
   "name": "python3"
  },
  "language_info": {
   "codemirror_mode": {
    "name": "ipython",
    "version": 3
   },
   "file_extension": ".py",
   "mimetype": "text/x-python",
   "name": "python",
   "nbconvert_exporter": "python",
   "pygments_lexer": "ipython3",
   "version": "3.12.4"
  }
 },
 "nbformat": 4,
 "nbformat_minor": 5
}
