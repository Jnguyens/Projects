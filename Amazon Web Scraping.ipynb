{
 "cells": [
  {
   "cell_type": "code",
   "execution_count": 13,
   "id": "af3bcc0a-4dd0-42d0-8952-747df9fea1f5",
   "metadata": {},
   "outputs": [],
   "source": [
    "from bs4 import BeautifulSoup\n",
    "import pandas as pd\n",
    "import requests\n",
    "import smtplib\n",
    "import time\n",
    "import datetime\n",
    "import csv"
   ]
  },
  {
   "cell_type": "code",
   "execution_count": 14,
   "id": "81888ada-3d2d-4885-8adc-d49af7b01d0f",
   "metadata": {},
   "outputs": [
    {
     "name": "stdout",
     "output_type": "stream",
     "text": [
      "Ray-Ban Square Sunglasses\n",
      "$178.00\n",
      "4.3 out of 5 stars\n"
     ]
    }
   ],
   "source": [
    "URL = \"https://www.amazon.ca/Ray-Ban-Square-Sunglasses-Gold-54/dp/B07NX28S8G?pf_rd_p=fef05b01-be30-42ae-84b4-7f4bdfc3dc6e&pf_rd_r=BCRPXA9232EFFQYRC17V&ref_=test_ce_arrivals_B07NX28S8G\"\n",
    "headers = {\"User-Agent\": \"Mozilla/5.0 (Windows NT 10.0; Win64; x64) AppleWebKit/537.36 (KHTML, like Gecko) Chrome/131.0.0.0 Safari/537.36\", \"Accept-Encoding\":\"gzip, deflate\", \"Accept\":\"text/html,application/xhtml+xml,application/xml;q=0.9,*/*;q=0.8\", \"DNT\":\"1\",\"Connection\":\"close\", \"Upgrade-Insecure-Requests\":\"1\"}\n",
    "page = requests.get(URL, headers=headers)\n",
    "soup1 = BeautifulSoup(page.content, 'html.parser')\n",
    "soup2 = BeautifulSoup(soup1.prettify(), 'html.parser')\n",
    "\n",
    "title = soup2.find(id='productTitle').get_text(strip=True)\n",
    "\n",
    "price_symbol = soup2.find(class_=\"a-price-symbol\").get_text(strip=True)\n",
    "price_whole = soup2.find(class_=\"a-price-whole\").get_text(strip=True)\n",
    "price_fraction = soup2.find(class_=\"a-price-fraction\").get_text(strip=True)\n",
    "price = f'{price_symbol}{price_whole}{price_fraction}'\n",
    "\n",
    "rating = soup2.find(class_=\"a-icon-alt\").get_text(strip=True)\n",
    "\n",
    "print(title)\n",
    "print(price)\n",
    "print(rating)"
   ]
  },
  {
   "cell_type": "code",
   "execution_count": 15,
   "id": "6a64c625-d857-4057-a39b-d4b0f4e6b96b",
   "metadata": {},
   "outputs": [
    {
     "name": "stdout",
     "output_type": "stream",
     "text": [
      "178.00\n"
     ]
    }
   ],
   "source": [
    "price = price[1:]\n",
    "print(price)"
   ]
  },
  {
   "cell_type": "code",
   "execution_count": 16,
   "id": "1e720df7-5724-4c36-b577-b49254974a0c",
   "metadata": {},
   "outputs": [
    {
     "name": "stdout",
     "output_type": "stream",
     "text": [
      "2024-12-13\n"
     ]
    }
   ],
   "source": [
    "today = datetime.date.today()\n",
    "print(today)"
   ]
  },
  {
   "cell_type": "code",
   "execution_count": 17,
   "id": "1ef3f0dd-f846-403c-b979-98db83297d98",
   "metadata": {},
   "outputs": [],
   "source": [
    "header = ['Title', 'Price', 'Rating', 'Date Added']\n",
    "data = [title, price, rating, today]\n",
    "with open('Amazon Sunglasses.csv', 'w', newline='', encoding='UTF8') as f:\n",
    "    writer = csv.writer(f)\n",
    "    writer.writerow(header)\n",
    "    writer.writerow(data)"
   ]
  },
  {
   "cell_type": "code",
   "execution_count": 28,
   "id": "4aee38eb-6d9a-4097-80a8-95519e01cd3b",
   "metadata": {},
   "outputs": [
    {
     "name": "stdout",
     "output_type": "stream",
     "text": [
      "                       Title  Price              Rating  Date Added\n",
      "0  Ray-Ban Square Sunglasses  178.0  4.3 out of 5 stars  2024-12-13\n",
      "1  Ray-Ban Square Sunglasses  178.0  4.3 out of 5 stars  2024-12-13\n"
     ]
    }
   ],
   "source": [
    "df = pd.read_csv(r\"C:\\Users\\Jimmy\\Amazon Sunglasses.csv\")\n",
    "print(df)"
   ]
  },
  {
   "cell_type": "code",
   "execution_count": 19,
   "id": "500ed2d2-32db-4c24-a01a-b9f1dbe3cd34",
   "metadata": {},
   "outputs": [],
   "source": [
    "with open('Amazon Sunglasses.csv', 'a+', newline='', encoding='UTF8') as f:\n",
    "    writer = csv.writer(f)\n",
    "    writer.writerow(data)"
   ]
  },
  {
   "cell_type": "code",
   "execution_count": 30,
   "id": "c4ead60b-5787-4635-a09a-e7345973d5ba",
   "metadata": {},
   "outputs": [],
   "source": [
    "def price_check():\n",
    "    URL = \"https://www.amazon.ca/Ray-Ban-Square-Sunglasses-Gold-54/dp/B07NX28S8G?pf_rd_p=fef05b01-be30-42ae-84b4-7f4bdfc3dc6e&pf_rd_r=BCRPXA9232EFFQYRC17V&ref_=test_ce_arrivals_B07NX28S8G\"\n",
    "\n",
    "    headers = {\"User-Agent\": \"Mozilla/5.0 (Windows NT 10.0; Win64; x64) AppleWebKit/537.36 (KHTML, like Gecko) Chrome/131.0.0.0 Safari/537.36\", \"Accept-Encoding\":\"gzip, deflate\", \"Accept\":\"text/html,application/xhtml+xml,application/xml;q=0.9,*/*;q=0.8\", \"DNT\":\"1\",\"Connection\":\"close\", \"Upgrade-Insecure-Requests\":\"1\"}\n",
    "\n",
    "    page = requests.get(URL, headers=headers)\n",
    "\n",
    "    soup1 = BeautifulSoup(page.content, 'html.parser')\n",
    "\n",
    "    soup2 = BeautifulSoup(soup1.prettify(), 'html.parser')\n",
    "\n",
    "    title = soup2.find(id='productTitle').get_text(strip=True)\n",
    "\n",
    "    price_symbol = soup2.find(class_='a-price-symbol').get_text(strip=True)\n",
    "    price_whole = soup2.find(class_='a-price-whole').get_text(strip=True)\n",
    "    price_fraction = soup2.find(class_='a-price-fraction').get_text(strip=True)\n",
    "    price = f'{price_symbol}{price_whole}{price_fraction}'\n",
    "\n",
    "    rating = soup2.find(class_=\"a-icon-alt\").get_text(strip=True)\n",
    "\n",
    "    price = price[1:]\n",
    "\n",
    "    today = datetime.date.today()\n",
    "\n",
    "    header = ['Title', 'Price', 'Rating', 'Date Added']\n",
    "    data = [title, price, rating, today]\n",
    "    \n",
    "    with open('Amazon Sunglasses.csv', 'a+', newline='', encoding='UTF8') as f:\n",
    "        writer = csv.writer(f)\n",
    "        writer.writerow(data)"
   ]
  },
  {
   "cell_type": "code",
   "execution_count": null,
   "id": "5266bd9d-af38-416e-99bc-a67374d2bad5",
   "metadata": {},
   "outputs": [],
   "source": [
    "while(True):\n",
    "    price_check()\n",
    "    time.sleep(86400)"
   ]
  },
  {
   "cell_type": "code",
   "execution_count": null,
   "id": "8a348e3f-854e-49c0-a5b3-109eedd927c0",
   "metadata": {},
   "outputs": [],
   "source": [
    "df = pd.read_csv(r\"C:\\Users\\Jimmy\\Amazon Sunglasses.csv\")\n",
    "print(df)"
   ]
  },
  {
   "cell_type": "code",
   "execution_count": null,
   "id": "02bf73f8-281e-4994-a911-d2a9420c8ba6",
   "metadata": {},
   "outputs": [],
   "source": []
  }
 ],
 "metadata": {
  "kernelspec": {
   "display_name": "Python 3 (ipykernel)",
   "language": "python",
   "name": "python3"
  },
  "language_info": {
   "codemirror_mode": {
    "name": "ipython",
    "version": 3
   },
   "file_extension": ".py",
   "mimetype": "text/x-python",
   "name": "python",
   "nbconvert_exporter": "python",
   "pygments_lexer": "ipython3",
   "version": "3.12.4"
  }
 },
 "nbformat": 4,
 "nbformat_minor": 5
}
